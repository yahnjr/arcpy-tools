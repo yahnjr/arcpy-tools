{
 "cells": [
  {
   "cell_type": "code",
   "execution_count": 4,
   "metadata": {},
   "outputs": [],
   "source": [
    "from arcpy.conversion import ExportFeatures\n",
    "import os\n",
    "\n",
    "#This function will subset a feature class from another feature class and create a new fc\n",
    "#https://pro.arcgis.com/en/pro-app/3.1/tool-reference/conversion/export-features.htm\n",
    "\n",
    "#gdb_path = r\"E:\\GIS\\Projects\\MapCreation\\MapCreation.gdb\"\n",
    "#in_fc = os.path.join(gdb_path, \"Instream_Implementation\")\n",
    "#out_fc = os.path.join(gdb_path, \"test\")\n",
    "\n",
    "#expression = arcpy.AddFieldDelimiters(gdb_path, \"ProjectName\") + \" = 'Big Creek LWD'\"\n",
    "#ExportFeatures(in_fc, out_fc, expression)"
   ]
  },
  {
   "cell_type": "code",
   "execution_count": 5,
   "metadata": {},
   "outputs": [],
   "source": [
    "#Paramaterize previous cell to create a reusable function\n",
    "def fc_to_fc(gdb_path, in_fc_name, attribute, value):\n",
    "    in_fc = os.path.join(gdb_path, in_fc_name)\n",
    "    expression = arcpy.AddFieldDelimiters(gdb_path, attribute) + f\" = {value}\"\n",
    "    out_fc_path = os.path.join(gdb_path, value)\n",
    "    out_fc = ExportFeatures(in_fc, out_fc_path, expression)\n",
    "    return out_fc"
   ]
  },
  {
   "cell_type": "code",
   "execution_count": 10,
   "metadata": {
    "scrolled": false
   },
   "outputs": [
    {
     "ename": "ExecuteError",
     "evalue": "Failed to execute. Parameters are not valid.\nERROR 000354: The name contains invalid characters\nFailed to execute (ExportFeatures).\n",
     "output_type": "error",
     "traceback": [
      "\u001b[0;31m---------------------------------------------------------------------------\u001b[0m\n\u001b[0;31mExecuteError\u001b[0m                              Traceback (most recent call last)",
      "In  \u001b[0;34m[10]\u001b[0m:\nLine \u001b[0;34m1\u001b[0m:     fc_to_fc(\u001b[33mr\u001b[39;49;00m\u001b[33m\"\u001b[39;49;00m\u001b[33mE:\u001b[39;49;00m\u001b[33m\\\u001b[39;49;00m\u001b[33mGIS\u001b[39;49;00m\u001b[33m\\\u001b[39;49;00m\u001b[33mProjects\u001b[39;49;00m\u001b[33m\\\u001b[39;49;00m\u001b[33mMapCreation\u001b[39;49;00m\u001b[33m\\\u001b[39;49;00m\u001b[33mMapCreation.gdb\u001b[39;49;00m\u001b[33m\"\u001b[39;49;00m, \u001b[33m\"\u001b[39;49;00m\u001b[33mInstream_Implementation\u001b[39;49;00m\u001b[33m\"\u001b[39;49;00m, \u001b[33m\"\u001b[39;49;00m\u001b[33mProjectName\u001b[39;49;00m\u001b[33m\"\u001b[39;49;00m, \u001b[33m'\u001b[39;49;00m\u001b[33mBig Creek LWD\u001b[39;49;00m\u001b[33m'\u001b[39;49;00m)\n",
      "In  \u001b[0;34m[5]\u001b[0m:\nLine \u001b[0;34m6\u001b[0m:     out_fc = ExportFeatures(in_fc, out_fc_path, expression)\n",
      "File \u001b[0;34mC:\\Program Files\\ArcGIS\\Pro\\Resources\\ArcPy\\arcpy\\conversion.py\u001b[0m, in \u001b[0;32mExportFeatures\u001b[0m:\nLine \u001b[0;34m2243\u001b[0m:  \u001b[34mraise\u001b[39;49;00m e\n",
      "File \u001b[0;34mC:\\Program Files\\ArcGIS\\Pro\\Resources\\ArcPy\\arcpy\\conversion.py\u001b[0m, in \u001b[0;32mExportFeatures\u001b[0m:\nLine \u001b[0;34m2240\u001b[0m:  retval = convertArcObjectToPythonObject(gp.ExportFeatures_conversion(*gp_fixargs((in_features, out_features, where_clause, use_field_alias_as_name, field_mapping, sort_field), \u001b[34mTrue\u001b[39;49;00m)))\n",
      "File \u001b[0;34mC:\\Program Files\\ArcGIS\\Pro\\Resources\\ArcPy\\arcpy\\geoprocessing\\_base.py\u001b[0m, in \u001b[0;32m<lambda>\u001b[0m:\nLine \u001b[0;34m512\u001b[0m:   \u001b[34mreturn\u001b[39;49;00m \u001b[34mlambda\u001b[39;49;00m *args: val(*gp_fixargs(args, \u001b[34mTrue\u001b[39;49;00m))\n",
      "\u001b[0;31mExecuteError\u001b[0m: Failed to execute. Parameters are not valid.\nERROR 000354: The name contains invalid characters\nFailed to execute (ExportFeatures).\n\n\u001b[0;31m---------------------------------------------------------------------------\u001b[0m"
     ]
    }
   ],
   "source": [
    "fc_to_fc(r\"E:\\GIS\\Projects\\MapCreation\\MapCreation.gdb\", \"Instream_Implementation\", \"ProjectName\", 'Big Creek LWD')"
   ]
  },
  {
   "cell_type": "code",
   "execution_count": null,
   "metadata": {},
   "outputs": [],
   "source": []
  }
 ],
 "metadata": {
  "kernelspec": {
   "display_name": "ArcGISPro",
   "language": "Python",
   "name": "python3"
  },
  "language_info": {
   "file_extension": ".py",
   "name": "python",
   "version": "3"
  }
 },
 "nbformat": 4,
 "nbformat_minor": 2
}
